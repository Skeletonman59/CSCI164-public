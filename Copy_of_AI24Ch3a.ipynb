{
  "nbformat": 4,
  "nbformat_minor": 0,
  "metadata": {
    "colab": {
      "provenance": [],
      "include_colab_link": true
    },
    "kernelspec": {
      "name": "python3",
      "display_name": "Python 3"
    }
  },
  "cells": [
    {
      "cell_type": "markdown",
      "metadata": {
        "id": "view-in-github",
        "colab_type": "text"
      },
      "source": [
        "<a href=\"https://colab.research.google.com/github/Skeletonman59/CSCI164-public/blob/main/Copy_of_AI24Ch3a.ipynb\" target=\"_parent\"><img src=\"https://colab.research.google.com/assets/colab-badge.svg\" alt=\"Open In Colab\"/></a>"
      ]
    },
    {
      "cell_type": "code",
      "metadata": {
        "id": "Gbe5KqWcISTq"
      },
      "source": [
        "import random\n",
        "import heapq\n",
        "\n",
        "from collections import deque"
      ],
      "execution_count": 72,
      "outputs": []
    },
    {
      "cell_type": "markdown",
      "metadata": {
        "id": "PHnbnN2uV8zr"
      },
      "source": [
        "# Tile Sliding Domain: Initial State Space"
      ]
    },
    {
      "cell_type": "code",
      "metadata": {
        "id": "jPCNOa4W-5yq"
      },
      "source": [
        "StateDimension=4\n",
        "GoalState = [1,2,3,4,5,6,7,8,9,10,11,12,13,14,15,0]\n",
        "InitialState=[1,2,3,4,5,6,7,8,13,14,9,12,10,11,15,0]\n",
        "Actions = lambda s: ['u', 'd', 'l', 'r']\n",
        "Opposite=dict([('u','d'),('d','u'),('l','r'),('r','l'), (None, None)])"
      ],
      "execution_count": 73,
      "outputs": []
    },
    {
      "cell_type": "code",
      "metadata": {
        "id": "XjnzkkC8_HE8"
      },
      "source": [
        "def Result(state, action):\n",
        "  state = state.copy()\n",
        "  i = state.index(0)\n",
        "  newState = list(state)\n",
        "  row,col=i//StateDimension, i % StateDimension\n",
        "  if ( (action=='u' and row==0) or\n",
        "       (action=='d' and row==StateDimension-1) or\n",
        "       (action=='l' and col==0) or\n",
        "       (action=='r' and col==StateDimension-1)):\n",
        "      return newState\n",
        "  if action=='u':\n",
        "    l,r = row*StateDimension+col, (row-1)*StateDimension+col\n",
        "  elif action=='d':\n",
        "    l,r = row*StateDimension+col, (row+1)*StateDimension+col\n",
        "  elif action=='l':\n",
        "    l,r = row*StateDimension+col, row*StateDimension+col-1\n",
        "  elif action=='r' :\n",
        "    l,r = row*StateDimension+col, row*StateDimension+col+1\n",
        "  newState[l], newState[r] = newState[r], newState[l]\n",
        "  return newState\n",
        "\n",
        "def PrintState(s):\n",
        "  for i in range(0,len(s),StateDimension):\n",
        "    print(s[i:i+StateDimension])\n",
        "\n",
        "def LegalMove(state, action):\n",
        "  i = state.index(0)\n",
        "  row,col=i//StateDimension, i % StateDimension\n",
        "  newState = state.copy()\n",
        "  if ( (action=='u' and row==0) or\n",
        "       (action=='d' and row==StateDimension-1) or\n",
        "       (action=='l' and col==0) or\n",
        "       (action=='r' and col==StateDimension-1)):\n",
        "      return False\n",
        "  return True\n",
        "\n",
        "def ApplyMoves(actions, state):\n",
        "  for action in actions:\n",
        "    state = Result(state, action)\n",
        "  return state\n"
      ],
      "execution_count": 88,
      "outputs": []
    },
    {
      "cell_type": "code",
      "source": [
        "'''def ApplyMoves(actions, state):\n",
        "  for action in actions:\n",
        "    if LegalMove(state, action): state = Result(state, action)\n",
        "    else: return None\n",
        "  return state'''"
      ],
      "metadata": {
        "id": "TjoVtmh7N-J1",
        "colab": {
          "base_uri": "https://localhost:8080/",
          "height": 53
        },
        "outputId": "c0c94f41-a45b-44dd-f8b7-29624b2d3e61"
      },
      "execution_count": 90,
      "outputs": [
        {
          "output_type": "execute_result",
          "data": {
            "text/plain": [
              "'def ApplyMoves(actions, state):\\n  for action in actions:\\n    if LegalMove(state, action): state = Result(state, action)\\n    else: return None\\n  return state'"
            ],
            "application/vnd.google.colaboratory.intrinsic+json": {
              "type": "string"
            }
          },
          "metadata": {},
          "execution_count": 90
        }
      ]
    },
    {
      "cell_type": "code",
      "source": [
        "def ReverseMoves(actions):\n",
        "  ret = [Opposite[a] for a in actions]\n",
        "  ret.reverse()\n",
        "  return ret"
      ],
      "metadata": {
        "id": "dx5X66BdOvD7"
      },
      "execution_count": 91,
      "outputs": []
    },
    {
      "cell_type": "code",
      "metadata": {
        "colab": {
          "base_uri": "https://localhost:8080/"
        },
        "id": "bE7MrTAI_t6i",
        "outputId": "9730a5ae-8b06-4c59-8f6f-4804017c4864"
      },
      "source": [
        "PrintState(InitialState)"
      ],
      "execution_count": 92,
      "outputs": [
        {
          "output_type": "stream",
          "name": "stdout",
          "text": [
            "[1, 2, 3, 4]\n",
            "[5, 6, 7, 8]\n",
            "[13, 14, 9, 12]\n",
            "[10, 11, 15, 0]\n"
          ]
        }
      ]
    },
    {
      "cell_type": "code",
      "metadata": {
        "colab": {
          "base_uri": "https://localhost:8080/"
        },
        "id": "wRULKFeXVcp3",
        "outputId": "4f6c1e87-25d7-4b73-ea4f-75d67e1cd83f"
      },
      "source": [
        "PrintState(GoalState)"
      ],
      "execution_count": 93,
      "outputs": [
        {
          "output_type": "stream",
          "name": "stdout",
          "text": [
            "[1, 2, 3, 4]\n",
            "[5, 6, 7, 8]\n",
            "[9, 10, 11, 12]\n",
            "[13, 14, 15, 0]\n"
          ]
        }
      ]
    },
    {
      "cell_type": "code",
      "metadata": {
        "colab": {
          "base_uri": "https://localhost:8080/"
        },
        "id": "j-EYW_gqGZtl",
        "outputId": "2685e88f-7ec5-4ce4-83e2-6db25c1bd9d4"
      },
      "source": [
        "PrintState(InitialState)\n",
        "print()\n",
        "state1 = Result(InitialState, 'u')\n",
        "PrintState(state1)\n",
        "print()\n",
        "state1 = Result(state1, 'r')\n",
        "PrintState(state1)"
      ],
      "execution_count": 94,
      "outputs": [
        {
          "output_type": "stream",
          "name": "stdout",
          "text": [
            "[1, 2, 3, 4]\n",
            "[5, 6, 7, 8]\n",
            "[13, 14, 9, 12]\n",
            "[10, 11, 15, 0]\n",
            "\n",
            "[1, 2, 3, 4]\n",
            "[5, 6, 7, 8]\n",
            "[13, 14, 9, 0]\n",
            "[10, 11, 15, 12]\n",
            "\n",
            "[1, 2, 3, 4]\n",
            "[5, 6, 7, 8]\n",
            "[13, 14, 9, 0]\n",
            "[10, 11, 15, 12]\n"
          ]
        }
      ]
    },
    {
      "cell_type": "code",
      "source": [
        "#function testing\n",
        "actionSequence = ['u', 'u', 'l', 'l',]\n",
        "PrintState(ApplyMoves(actions=actionSequence, state=InitialState))"
      ],
      "metadata": {
        "colab": {
          "base_uri": "https://localhost:8080/"
        },
        "id": "539Rl_wvOBta",
        "outputId": "d5f5e1e2-56cc-4bf3-d64a-964e5af8f470"
      },
      "execution_count": 95,
      "outputs": [
        {
          "output_type": "stream",
          "name": "stdout",
          "text": [
            "[1, 2, 3, 4]\n",
            "[5, 0, 6, 7]\n",
            "[13, 14, 9, 8]\n",
            "[10, 11, 15, 12]\n"
          ]
        }
      ]
    },
    {
      "cell_type": "code",
      "source": [
        "actionSequence = ['u', 'r', 'd', 'l']\n",
        "\n",
        "def bfs(InitialState, GoalState):\n",
        "    Frontier = deque([(InitialState, [])])\n",
        "    reached = set()\n",
        "    reached.add(tuple(InitialState))\n",
        "    expanded = 0\n",
        "\n",
        "    while Frontier:\n",
        "        state, path = Frontier.popleft()\n",
        "        expanded = expanded + 1\n",
        "\n",
        "        if state == GoalState:\n",
        "            return path, expanded\n",
        "\n",
        "        for action in actionSequence:\n",
        "            new_state = Result(state, action) #result has been modified to accept 4x4 grid\n",
        "            if tuple(new_state) not in reached:\n",
        "                reached.add(tuple(new_state))\n",
        "                Frontier.append((new_state, path + [action]))\n",
        "\n",
        "    return [], expanded\n",
        "\n",
        "# Find the solution path using BFS\n",
        "solution_path, expanded = bfs(InitialState, GoalState)\n",
        "\n",
        "print(\"Path:\")\n",
        "for action in solution_path:\n",
        "    print(action, end=', ')\n",
        "\n",
        "print()\n",
        "print()\n",
        "\n",
        "print(\"Initial grid:\")\n",
        "PrintState(InitialState)\n",
        "\n",
        "final = ApplyMoves(solution_path, InitialState)\n",
        "print()\n",
        "print(\"Final grid:\")\n",
        "PrintState(final)"
      ],
      "metadata": {
        "id": "4Uvqd7OR_WqV",
        "colab": {
          "base_uri": "https://localhost:8080/"
        },
        "outputId": "7714f63d-cbb6-4629-c142-f2d82098de42"
      },
      "execution_count": 99,
      "outputs": [
        {
          "output_type": "stream",
          "name": "stdout",
          "text": [
            "Path:\n",
            "l, l, u, r, d, l, l, u, r, d, r, r, \n",
            "\n",
            "Initial grid:\n",
            "[1, 2, 3, 4]\n",
            "[5, 6, 7, 8]\n",
            "[13, 14, 9, 12]\n",
            "[10, 11, 15, 0]\n",
            "\n",
            "Final grid:\n",
            "[1, 2, 3, 4]\n",
            "[5, 6, 7, 8]\n",
            "[9, 10, 11, 12]\n",
            "[13, 14, 15, 0]\n"
          ]
        }
      ]
    }
  ]
}