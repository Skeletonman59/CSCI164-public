{
  "nbformat": 4,
  "nbformat_minor": 0,
  "metadata": {
    "colab": {
      "provenance": [],
      "authorship_tag": "ABX9TyNiA1y7eIwX3ajrVirPIG+s",
      "include_colab_link": true
    },
    "kernelspec": {
      "name": "python3",
      "display_name": "Python 3"
    },
    "language_info": {
      "name": "python"
    }
  },
  "cells": [
    {
      "cell_type": "markdown",
      "metadata": {
        "id": "view-in-github",
        "colab_type": "text"
      },
      "source": [
        "<a href=\"https://colab.research.google.com/github/Skeletonman59/CSCI164-public/blob/main/5_8_LAB_Neural_networks_in_Keras.ipynb\" target=\"_parent\"><img src=\"https://colab.research.google.com/assets/colab-badge.svg\" alt=\"Open In Colab\"/></a>"
      ]
    },
    {
      "cell_type": "code",
      "execution_count": 1,
      "metadata": {
        "id": "SMl9O3dVk5JH"
      },
      "outputs": [],
      "source": [
        "import numpy as np\n",
        "import pandas as pd\n",
        "from sklearn.model_selection import train_test_split\n",
        "import os"
      ]
    },
    {
      "cell_type": "markdown",
      "source": [
        "Set the backend using tensorflow\n"
      ],
      "metadata": {
        "id": "Xcu9q8ROlalz"
      }
    },
    {
      "cell_type": "code",
      "source": [
        "os.environ[\"KERAS_BACKEND\"] = 'tensorflow' # Your code here\n",
        "os.environ['TF_CPP_MIN_LOG_LEVEL'] = '1'\n",
        "# The backend must be set before importing keras, not after\n",
        "import keras\n",
        "keras.utils.set_random_seed(812)"
      ],
      "metadata": {
        "id": "tMTF2Zn3ldl8"
      },
      "execution_count": 2,
      "outputs": []
    },
    {
      "cell_type": "markdown",
      "source": [
        "Create the dataframes"
      ],
      "metadata": {
        "id": "oCBSVqSplm9u"
      }
    },
    {
      "cell_type": "code",
      "source": [
        "#df = pd.read_csv('diamonds.csv')\n",
        "from google.colab import drive\n",
        "\n",
        "# Mount your Google Drive\n",
        "drive.mount('/content/drive')\n",
        "\n",
        "# Path to the diamonds.csv file on Google Drive\n",
        "data_path = '/content/drive/MyDrive/164Summer24/diamonds.csv'\n",
        "df = pd.read_csv(data_path)\n",
        "\n",
        "diamond_sample = df.sample(1000, random_state=12)\n",
        "\n",
        "X = diamond_sample.drop(columns=['cut', 'color', 'clarity', 'price'])\n",
        "y = diamond_sample[['price']]\n",
        "\n",
        "Xtrain, Xtest, ytrain, ytest = train_test_split(X, y, test_size=0.3)"
      ],
      "metadata": {
        "colab": {
          "base_uri": "https://localhost:8080/"
        },
        "id": "ak46deC0ltgh",
        "outputId": "8c5e2d72-4ac6-4bb3-93bb-bbcb69988d40"
      },
      "execution_count": 5,
      "outputs": [
        {
          "output_type": "stream",
          "name": "stdout",
          "text": [
            "Drive already mounted at /content/drive; to attempt to forcibly remount, call drive.mount(\"/content/drive\", force_remount=True).\n"
          ]
        }
      ]
    },
    {
      "cell_type": "markdown",
      "source": [
        "Define the model structure using keras.Sequential. The input layer has shape=(6, ), hidden layer 1 has 256 nodes and relu activation, hidden layer 2 had 128 nodes and linear activation, hidden layer 3 has 64 nodes and linear activation, and the output layer has 1 node (for regression) and linear activation.\n"
      ],
      "metadata": {
        "id": "76DgtA-fl5ab"
      }
    },
    {
      "cell_type": "code",
      "source": [
        "model = keras.Sequential(\n",
        "    [\n",
        "        keras.layers.Input(shape=(6,)),\n",
        "        keras.layers.Dense(256, activation=\"relu\"),\n",
        "        keras.layers.Dense(128, activation=\"linear\"),\n",
        "        keras.layers.Dense(64, activation=\"linear\"),\n",
        "        keras.layers.Dense(1, activation=\"linear\")\n",
        "\n",
        "    ]\n",
        ")\n",
        "\n",
        "print(model.summary())"
      ],
      "metadata": {
        "colab": {
          "base_uri": "https://localhost:8080/"
        },
        "id": "sUb39ldkmBBZ",
        "outputId": "a2358d57-0457-4b2e-c2e7-b961b8b7b97a"
      },
      "execution_count": 6,
      "outputs": [
        {
          "output_type": "stream",
          "name": "stdout",
          "text": [
            "Model: \"sequential\"\n",
            "_________________________________________________________________\n",
            " Layer (type)                Output Shape              Param #   \n",
            "=================================================================\n",
            " dense (Dense)               (None, 256)               1792      \n",
            "                                                                 \n",
            " dense_1 (Dense)             (None, 128)               32896     \n",
            "                                                                 \n",
            " dense_2 (Dense)             (None, 64)                8256      \n",
            "                                                                 \n",
            " dense_3 (Dense)             (None, 1)                 65        \n",
            "                                                                 \n",
            "=================================================================\n",
            "Total params: 43009 (168.00 KB)\n",
            "Trainable params: 43009 (168.00 KB)\n",
            "Non-trainable params: 0 (0.00 Byte)\n",
            "_________________________________________________________________\n",
            "None\n"
          ]
        }
      ]
    },
    {
      "cell_type": "markdown",
      "source": [
        "Specify training choices using the compile method, with optimizer='Adam', loss='MeanSquaredError', metrics='mse'"
      ],
      "metadata": {
        "id": "tA98ySnrmI_P"
      }
    },
    {
      "cell_type": "code",
      "source": [
        "model.compile(\n",
        "    optimizer='Adam',  # Optimizer\n",
        "    loss='MeanSquaredError',\n",
        "    metrics=['mse'],\n",
        ")"
      ],
      "metadata": {
        "id": "Z-2FMRremlYI"
      },
      "execution_count": 7,
      "outputs": []
    },
    {
      "cell_type": "markdown",
      "source": [
        "Train the model with a batch size of 100, 5 epochs, validation_split=0.1, and verbose=0\n"
      ],
      "metadata": {
        "id": "MeHuL_ELmslg"
      }
    },
    {
      "cell_type": "code",
      "source": [
        "model.fit(Xtrain, ytrain, batch_size=100, epochs=5, validation_split=0.1, verbose=0)"
      ],
      "metadata": {
        "colab": {
          "base_uri": "https://localhost:8080/"
        },
        "id": "l0oUiaebmylp",
        "outputId": "d364e54d-be80-4684-89ae-bd970ad6b56b"
      },
      "execution_count": 8,
      "outputs": [
        {
          "output_type": "execute_result",
          "data": {
            "text/plain": [
              "<keras.src.callbacks.History at 0x79e11fb46d70>"
            ]
          },
          "metadata": {},
          "execution_count": 8
        }
      ]
    },
    {
      "cell_type": "code",
      "source": [
        "predictions = model.predict(Xtest[:3], verbose=0)\n",
        "print('Predictions:', predictions.round(3))\n",
        "print('Actual values:', ytest[:3])"
      ],
      "metadata": {
        "colab": {
          "base_uri": "https://localhost:8080/"
        },
        "id": "qxAi4eWnm1Jx",
        "outputId": "45e4d486-2f8f-4797-c167-87c5e4b5996f"
      },
      "execution_count": 9,
      "outputs": [
        {
          "output_type": "stream",
          "name": "stdout",
          "text": [
            "Predictions: [[3471.882]\n",
            " [3681.604]\n",
            " [3494.266]]\n",
            "Actual values:        price\n",
            "11049    596\n",
            "27577  18407\n",
            "45498   1680\n"
          ]
        }
      ]
    }
  ]
}